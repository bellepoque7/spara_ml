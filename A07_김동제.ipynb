{
 "cells": [
  {
   "cell_type": "code",
   "execution_count": 1,
   "metadata": {},
   "outputs": [],
   "source": [
    "# 데이터 출처: https://archive.ics.uci.edu/dataset/222/bank+marketing\n",
    "# Github 출처: https://github.com/uci-ml-repo/ucimlrepo\n",
    "\n",
    "#기본 모듈 불러오기 \n",
    "import pandas as pd\n",
    "import numpy as np\n",
    "import matplotlib.pyplot as plt\n",
    "import seaborn as sns\n",
    "from sklearn.model_selection import train_test_split\n",
    "\n",
    "# warning을 모두 무시하는 것은 좋지 않으나 과제 수행을 쉽게할 수 있도록 무시설정\n",
    "import warnings\n",
    "warnings.filterwarnings(action='ignore')"
   ]
  },
  {
   "cell_type": "markdown",
   "metadata": {},
   "source": [
    "## 문제1: 라이브러리를 통해 데이터 불러오기\n",
    "- 다음코드는 데이터를 불러오고 df 변수명에 저장하는 코드입니다.\n",
    "- github 문서를 읽고 데이터를 요청하여 로컬환경에 저장해보세요"
   ]
  },
  {
   "cell_type": "code",
   "execution_count": 2,
   "metadata": {},
   "outputs": [
    {
     "data": {
      "text/html": [
       "<div>\n",
       "<style scoped>\n",
       "    .dataframe tbody tr th:only-of-type {\n",
       "        vertical-align: middle;\n",
       "    }\n",
       "\n",
       "    .dataframe tbody tr th {\n",
       "        vertical-align: top;\n",
       "    }\n",
       "\n",
       "    .dataframe thead th {\n",
       "        text-align: right;\n",
       "    }\n",
       "</style>\n",
       "<table border=\"1\" class=\"dataframe\">\n",
       "  <thead>\n",
       "    <tr style=\"text-align: right;\">\n",
       "      <th></th>\n",
       "      <th>age</th>\n",
       "      <th>job</th>\n",
       "      <th>marital</th>\n",
       "      <th>education</th>\n",
       "      <th>default</th>\n",
       "      <th>balance</th>\n",
       "      <th>housing</th>\n",
       "      <th>loan</th>\n",
       "      <th>contact</th>\n",
       "      <th>day_of_week</th>\n",
       "      <th>month</th>\n",
       "      <th>duration</th>\n",
       "      <th>campaign</th>\n",
       "      <th>pdays</th>\n",
       "      <th>previous</th>\n",
       "      <th>poutcome</th>\n",
       "      <th>y</th>\n",
       "    </tr>\n",
       "  </thead>\n",
       "  <tbody>\n",
       "    <tr>\n",
       "      <th>0</th>\n",
       "      <td>58</td>\n",
       "      <td>management</td>\n",
       "      <td>married</td>\n",
       "      <td>tertiary</td>\n",
       "      <td>no</td>\n",
       "      <td>2143</td>\n",
       "      <td>yes</td>\n",
       "      <td>no</td>\n",
       "      <td>NaN</td>\n",
       "      <td>5</td>\n",
       "      <td>may</td>\n",
       "      <td>261</td>\n",
       "      <td>1</td>\n",
       "      <td>-1</td>\n",
       "      <td>0</td>\n",
       "      <td>NaN</td>\n",
       "      <td>no</td>\n",
       "    </tr>\n",
       "    <tr>\n",
       "      <th>1</th>\n",
       "      <td>44</td>\n",
       "      <td>technician</td>\n",
       "      <td>single</td>\n",
       "      <td>secondary</td>\n",
       "      <td>no</td>\n",
       "      <td>29</td>\n",
       "      <td>yes</td>\n",
       "      <td>no</td>\n",
       "      <td>NaN</td>\n",
       "      <td>5</td>\n",
       "      <td>may</td>\n",
       "      <td>151</td>\n",
       "      <td>1</td>\n",
       "      <td>-1</td>\n",
       "      <td>0</td>\n",
       "      <td>NaN</td>\n",
       "      <td>no</td>\n",
       "    </tr>\n",
       "    <tr>\n",
       "      <th>2</th>\n",
       "      <td>33</td>\n",
       "      <td>entrepreneur</td>\n",
       "      <td>married</td>\n",
       "      <td>secondary</td>\n",
       "      <td>no</td>\n",
       "      <td>2</td>\n",
       "      <td>yes</td>\n",
       "      <td>yes</td>\n",
       "      <td>NaN</td>\n",
       "      <td>5</td>\n",
       "      <td>may</td>\n",
       "      <td>76</td>\n",
       "      <td>1</td>\n",
       "      <td>-1</td>\n",
       "      <td>0</td>\n",
       "      <td>NaN</td>\n",
       "      <td>no</td>\n",
       "    </tr>\n",
       "  </tbody>\n",
       "</table>\n",
       "</div>"
      ],
      "text/plain": [
       "   age           job  marital  education default  balance housing loan   \n",
       "0   58    management  married   tertiary      no     2143     yes   no  \\\n",
       "1   44    technician   single  secondary      no       29     yes   no   \n",
       "2   33  entrepreneur  married  secondary      no        2     yes  yes   \n",
       "\n",
       "  contact  day_of_week month  duration  campaign  pdays  previous poutcome   y  \n",
       "0     NaN            5   may       261         1     -1         0      NaN  no  \n",
       "1     NaN            5   may       151         1     -1         0      NaN  no  \n",
       "2     NaN            5   may        76         1     -1         0      NaN  no  "
      ]
     },
     "execution_count": 2,
     "metadata": {},
     "output_type": "execute_result"
    }
   ],
   "source": [
    "'''문제 시작'''\n",
    "from ucimlrepo import fetch_ucirepo\n",
    "\n",
    "df = fetch_ucirepo(id=222)\n",
    "df = df.data.original\n",
    "df.to_csv('bank_marketing.csv', index=False)\n",
    "'''문제 끝'''\n",
    "df.head(3)"
   ]
  },
  {
   "cell_type": "markdown",
   "metadata": {},
   "source": [
    "## 데이터 정보:포르투갈 은행 기관의 마케팅 캠페인 데이터.\n",
    "\n",
    "- 회사는 전화를 통해 고객에게 두번 이상 상품을 구독할건지 안할건지 연락합니다.\n",
    "- 데이터셋의 목표는 고객이 정기 예금 상품을 구독할지 안할지를 다른 변수로 예측하는 것입니다.\n",
    "\n",
    "- age : 나이\n",
    "- job : 직업\n",
    "- marital : 결혼유무\n",
    "- education : 교육\n",
    "- default : credit default swap 유무 (신용부도 위험을 서로 교환하는 거래)\n",
    "- balance : 통장잔고\n",
    "- housing : 주택대출 유무\n",
    "- loan : 대출 유무\n",
    "- contact : 연락처 종류\n",
    "- day_of_week : 최근 연락한 요일\n",
    "- month: 최근 연락한 달\n",
    "- duration : 전화 받은 시간(초). 이 속성은 y 값에 높은 영향력을 지니기 때문에 정확한 모델 구축이 목표라면 **변수에 포함시키지 말아야 합니다**. \n",
    "- campaign: 현 캠페인 당시 전화 한 횟수\n",
    "- pdays: 현 캠페인 전화 이후 현재까지의 일수\n",
    "- previous:  전 캠페인 전화 횟수\n",
    "- poutcome: 전 캠페인 결과. 구독 유무\n",
    "- y: 구독 유무"
   ]
  },
  {
   "cell_type": "code",
   "execution_count": 3,
   "metadata": {},
   "outputs": [
    {
     "name": "stdout",
     "output_type": "stream",
     "text": [
      "<class 'pandas.core.frame.DataFrame'>\n",
      "RangeIndex: 45211 entries, 0 to 45210\n",
      "Data columns (total 17 columns):\n",
      " #   Column       Non-Null Count  Dtype \n",
      "---  ------       --------------  ----- \n",
      " 0   age          45211 non-null  int64 \n",
      " 1   job          44923 non-null  object\n",
      " 2   marital      45211 non-null  object\n",
      " 3   education    43354 non-null  object\n",
      " 4   default      45211 non-null  object\n",
      " 5   balance      45211 non-null  int64 \n",
      " 6   housing      45211 non-null  object\n",
      " 7   loan         45211 non-null  object\n",
      " 8   contact      32191 non-null  object\n",
      " 9   day_of_week  45211 non-null  int64 \n",
      " 10  month        45211 non-null  object\n",
      " 11  duration     45211 non-null  int64 \n",
      " 12  campaign     45211 non-null  int64 \n",
      " 13  pdays        45211 non-null  int64 \n",
      " 14  previous     45211 non-null  int64 \n",
      " 15  poutcome     8252 non-null   object\n",
      " 16  y            45211 non-null  object\n",
      "dtypes: int64(7), object(10)\n",
      "memory usage: 5.9+ MB\n"
     ]
    }
   ],
   "source": [
    "#결측치\n",
    "df.info()"
   ]
  },
  {
   "cell_type": "code",
   "execution_count": 4,
   "metadata": {},
   "outputs": [
    {
     "data": {
      "text/plain": [
       "'Null sum : job 288, edu 1857, contact 13020, pout 36959'"
      ]
     },
     "execution_count": 4,
     "metadata": {},
     "output_type": "execute_result"
    }
   ],
   "source": [
    "#job, education, contact, poutcome 결측치 관찰 --> 전부 범주형 데이터!\n",
    "job_na = df['job'].isna().sum()\n",
    "edu_na = df['education'].isna().sum()\n",
    "conta_na = df['contact'].isna().sum()\n",
    "pout_na = df['poutcome'].isna().sum()\n",
    "\"Null sum : job {job_na}, edu {edu_na}, contact {conta_na}, pout {pout_na}\".format(job_na=job_na,\n",
    "                                                                                   edu_na=edu_na,\n",
    "                                                                                   conta_na=conta_na,\n",
    "                                                                                   pout_na=pout_na)"
   ]
  },
  {
   "cell_type": "code",
   "execution_count": 5,
   "metadata": {},
   "outputs": [
    {
     "data": {
      "text/plain": [
       "array(['management', 'technician', 'entrepreneur', 'blue-collar', nan,\n",
       "       'retired', 'admin.', 'services', 'self-employed', 'unemployed',\n",
       "       'housemaid', 'student'], dtype=object)"
      ]
     },
     "execution_count": 5,
     "metadata": {},
     "output_type": "execute_result"
    }
   ],
   "source": [
    "category_col = ['job','marital','education','default','housing','loan','contact','month','poutcome']\n",
    "df.job.unique()"
   ]
  },
  {
   "cell_type": "code",
   "execution_count": 6,
   "metadata": {},
   "outputs": [
    {
     "data": {
      "text/plain": [
       "array(['married', 'single', 'divorced'], dtype=object)"
      ]
     },
     "execution_count": 6,
     "metadata": {},
     "output_type": "execute_result"
    }
   ],
   "source": [
    "df.marital.unique()"
   ]
  },
  {
   "cell_type": "code",
   "execution_count": 7,
   "metadata": {},
   "outputs": [
    {
     "data": {
      "text/plain": [
       "array(['tertiary', 'secondary', nan, 'primary'], dtype=object)"
      ]
     },
     "execution_count": 7,
     "metadata": {},
     "output_type": "execute_result"
    }
   ],
   "source": [
    "df.education.unique()"
   ]
  },
  {
   "cell_type": "code",
   "execution_count": 8,
   "metadata": {},
   "outputs": [
    {
     "data": {
      "text/plain": [
       "array(['no', 'yes'], dtype=object)"
      ]
     },
     "execution_count": 8,
     "metadata": {},
     "output_type": "execute_result"
    }
   ],
   "source": [
    "df.default.unique()"
   ]
  },
  {
   "cell_type": "code",
   "execution_count": 9,
   "metadata": {},
   "outputs": [
    {
     "data": {
      "text/plain": [
       "array(['yes', 'no'], dtype=object)"
      ]
     },
     "execution_count": 9,
     "metadata": {},
     "output_type": "execute_result"
    }
   ],
   "source": [
    "df.housing.unique()"
   ]
  },
  {
   "cell_type": "code",
   "execution_count": 10,
   "metadata": {},
   "outputs": [
    {
     "data": {
      "text/plain": [
       "array(['no', 'yes'], dtype=object)"
      ]
     },
     "execution_count": 10,
     "metadata": {},
     "output_type": "execute_result"
    }
   ],
   "source": [
    "df.loan.unique()"
   ]
  },
  {
   "cell_type": "code",
   "execution_count": 11,
   "metadata": {},
   "outputs": [
    {
     "data": {
      "text/plain": [
       "array([nan, 'cellular', 'telephone'], dtype=object)"
      ]
     },
     "execution_count": 11,
     "metadata": {},
     "output_type": "execute_result"
    }
   ],
   "source": [
    "df.contact.unique()"
   ]
  },
  {
   "cell_type": "code",
   "execution_count": 12,
   "metadata": {},
   "outputs": [
    {
     "data": {
      "text/plain": [
       "array(['may', 'jun', 'jul', 'aug', 'oct', 'nov', 'dec', 'jan', 'feb',\n",
       "       'mar', 'apr', 'sep'], dtype=object)"
      ]
     },
     "execution_count": 12,
     "metadata": {},
     "output_type": "execute_result"
    }
   ],
   "source": [
    "df.month.unique()"
   ]
  },
  {
   "cell_type": "code",
   "execution_count": 13,
   "metadata": {},
   "outputs": [
    {
     "data": {
      "text/plain": [
       "array([nan, 'failure', 'other', 'success'], dtype=object)"
      ]
     },
     "execution_count": 13,
     "metadata": {},
     "output_type": "execute_result"
    }
   ],
   "source": [
    "df.poutcome.unique()"
   ]
  },
  {
   "cell_type": "markdown",
   "metadata": {},
   "source": [
    "좋은 성능을 가진 모델 구축이 목표이기에 duration 변수를 제거해야 합니다. 또한 결측치 제거가 모델에 어떤 영향을 끼치는지 아직 모르기 때문에 결측치 제거는 따로 하지 않는게 좋을 것 같습니다."
   ]
  },
  {
   "cell_type": "markdown",
   "metadata": {},
   "source": [
    "## 데이터 전처리 & EDA 간단히"
   ]
  },
  {
   "cell_type": "code",
   "execution_count": 14,
   "metadata": {},
   "outputs": [
    {
     "name": "stdout",
     "output_type": "stream",
     "text": [
      "(33908, 16) (11303, 16) (33908, 1) (11303, 1)\n"
     ]
    }
   ],
   "source": [
    "#데이터 불러오기 \n",
    "df = pd.read_csv('./bank_marketing.csv')\n",
    "\n",
    "# 제공받은 데이터를 train, test로 분리\n",
    "X = df.drop(columns = ['y'])\n",
    "y = df[['y']]\n",
    "\n",
    "# 학습과 평가를 위해 데이터 셋 분리\n",
    "X_train, X_test, y_train, y_test = train_test_split(X, y, stratify = y, random_state= 42)\n",
    "numeric_col = ['age','balance','day_of_week','duration','campaign','pdays','previous']\n",
    "category_col = ['job','marital','education','default','housing','loan','contact','month','poutcome']\n",
    "\n",
    "#분리된 데이터 차원 확인\n",
    "print(X_train.shape, X_test.shape, y_train.shape, y_test.shape)"
   ]
  },
  {
   "cell_type": "code",
   "execution_count": 15,
   "metadata": {},
   "outputs": [
    {
     "data": {
      "text/html": [
       "<div>\n",
       "<style scoped>\n",
       "    .dataframe tbody tr th:only-of-type {\n",
       "        vertical-align: middle;\n",
       "    }\n",
       "\n",
       "    .dataframe tbody tr th {\n",
       "        vertical-align: top;\n",
       "    }\n",
       "\n",
       "    .dataframe thead th {\n",
       "        text-align: right;\n",
       "    }\n",
       "</style>\n",
       "<table border=\"1\" class=\"dataframe\">\n",
       "  <thead>\n",
       "    <tr style=\"text-align: right;\">\n",
       "      <th></th>\n",
       "      <th>age</th>\n",
       "      <th>job</th>\n",
       "      <th>marital</th>\n",
       "      <th>education</th>\n",
       "      <th>default</th>\n",
       "      <th>balance</th>\n",
       "      <th>housing</th>\n",
       "      <th>loan</th>\n",
       "      <th>contact</th>\n",
       "      <th>day_of_week</th>\n",
       "      <th>month</th>\n",
       "      <th>duration</th>\n",
       "      <th>campaign</th>\n",
       "      <th>pdays</th>\n",
       "      <th>previous</th>\n",
       "      <th>poutcome</th>\n",
       "    </tr>\n",
       "  </thead>\n",
       "  <tbody>\n",
       "    <tr>\n",
       "      <th>count</th>\n",
       "      <td>33908.000000</td>\n",
       "      <td>33688</td>\n",
       "      <td>33908</td>\n",
       "      <td>32522</td>\n",
       "      <td>33908</td>\n",
       "      <td>33908.000000</td>\n",
       "      <td>33908</td>\n",
       "      <td>33908</td>\n",
       "      <td>24180</td>\n",
       "      <td>33908.000000</td>\n",
       "      <td>33908</td>\n",
       "      <td>33908.000000</td>\n",
       "      <td>33908.000000</td>\n",
       "      <td>33908.000000</td>\n",
       "      <td>33908.000000</td>\n",
       "      <td>6153</td>\n",
       "    </tr>\n",
       "    <tr>\n",
       "      <th>unique</th>\n",
       "      <td>NaN</td>\n",
       "      <td>11</td>\n",
       "      <td>3</td>\n",
       "      <td>3</td>\n",
       "      <td>2</td>\n",
       "      <td>NaN</td>\n",
       "      <td>2</td>\n",
       "      <td>2</td>\n",
       "      <td>2</td>\n",
       "      <td>NaN</td>\n",
       "      <td>12</td>\n",
       "      <td>NaN</td>\n",
       "      <td>NaN</td>\n",
       "      <td>NaN</td>\n",
       "      <td>NaN</td>\n",
       "      <td>3</td>\n",
       "    </tr>\n",
       "    <tr>\n",
       "      <th>top</th>\n",
       "      <td>NaN</td>\n",
       "      <td>blue-collar</td>\n",
       "      <td>married</td>\n",
       "      <td>secondary</td>\n",
       "      <td>no</td>\n",
       "      <td>NaN</td>\n",
       "      <td>yes</td>\n",
       "      <td>no</td>\n",
       "      <td>cellular</td>\n",
       "      <td>NaN</td>\n",
       "      <td>may</td>\n",
       "      <td>NaN</td>\n",
       "      <td>NaN</td>\n",
       "      <td>NaN</td>\n",
       "      <td>NaN</td>\n",
       "      <td>failure</td>\n",
       "    </tr>\n",
       "    <tr>\n",
       "      <th>freq</th>\n",
       "      <td>NaN</td>\n",
       "      <td>7369</td>\n",
       "      <td>20445</td>\n",
       "      <td>17376</td>\n",
       "      <td>33306</td>\n",
       "      <td>NaN</td>\n",
       "      <td>18891</td>\n",
       "      <td>28471</td>\n",
       "      <td>22000</td>\n",
       "      <td>NaN</td>\n",
       "      <td>10310</td>\n",
       "      <td>NaN</td>\n",
       "      <td>NaN</td>\n",
       "      <td>NaN</td>\n",
       "      <td>NaN</td>\n",
       "      <td>3645</td>\n",
       "    </tr>\n",
       "    <tr>\n",
       "      <th>mean</th>\n",
       "      <td>40.907957</td>\n",
       "      <td>NaN</td>\n",
       "      <td>NaN</td>\n",
       "      <td>NaN</td>\n",
       "      <td>NaN</td>\n",
       "      <td>1362.457709</td>\n",
       "      <td>NaN</td>\n",
       "      <td>NaN</td>\n",
       "      <td>NaN</td>\n",
       "      <td>15.825233</td>\n",
       "      <td>NaN</td>\n",
       "      <td>258.473015</td>\n",
       "      <td>2.759555</td>\n",
       "      <td>40.024979</td>\n",
       "      <td>0.582635</td>\n",
       "      <td>NaN</td>\n",
       "    </tr>\n",
       "    <tr>\n",
       "      <th>std</th>\n",
       "      <td>10.620338</td>\n",
       "      <td>NaN</td>\n",
       "      <td>NaN</td>\n",
       "      <td>NaN</td>\n",
       "      <td>NaN</td>\n",
       "      <td>3052.176471</td>\n",
       "      <td>NaN</td>\n",
       "      <td>NaN</td>\n",
       "      <td>NaN</td>\n",
       "      <td>8.339007</td>\n",
       "      <td>NaN</td>\n",
       "      <td>258.936344</td>\n",
       "      <td>3.094060</td>\n",
       "      <td>100.018015</td>\n",
       "      <td>2.445884</td>\n",
       "      <td>NaN</td>\n",
       "    </tr>\n",
       "    <tr>\n",
       "      <th>min</th>\n",
       "      <td>18.000000</td>\n",
       "      <td>NaN</td>\n",
       "      <td>NaN</td>\n",
       "      <td>NaN</td>\n",
       "      <td>NaN</td>\n",
       "      <td>-8019.000000</td>\n",
       "      <td>NaN</td>\n",
       "      <td>NaN</td>\n",
       "      <td>NaN</td>\n",
       "      <td>1.000000</td>\n",
       "      <td>NaN</td>\n",
       "      <td>0.000000</td>\n",
       "      <td>1.000000</td>\n",
       "      <td>-1.000000</td>\n",
       "      <td>0.000000</td>\n",
       "      <td>NaN</td>\n",
       "    </tr>\n",
       "    <tr>\n",
       "      <th>25%</th>\n",
       "      <td>33.000000</td>\n",
       "      <td>NaN</td>\n",
       "      <td>NaN</td>\n",
       "      <td>NaN</td>\n",
       "      <td>NaN</td>\n",
       "      <td>74.000000</td>\n",
       "      <td>NaN</td>\n",
       "      <td>NaN</td>\n",
       "      <td>NaN</td>\n",
       "      <td>8.000000</td>\n",
       "      <td>NaN</td>\n",
       "      <td>103.000000</td>\n",
       "      <td>1.000000</td>\n",
       "      <td>-1.000000</td>\n",
       "      <td>0.000000</td>\n",
       "      <td>NaN</td>\n",
       "    </tr>\n",
       "    <tr>\n",
       "      <th>50%</th>\n",
       "      <td>39.000000</td>\n",
       "      <td>NaN</td>\n",
       "      <td>NaN</td>\n",
       "      <td>NaN</td>\n",
       "      <td>NaN</td>\n",
       "      <td>451.000000</td>\n",
       "      <td>NaN</td>\n",
       "      <td>NaN</td>\n",
       "      <td>NaN</td>\n",
       "      <td>16.000000</td>\n",
       "      <td>NaN</td>\n",
       "      <td>180.000000</td>\n",
       "      <td>2.000000</td>\n",
       "      <td>-1.000000</td>\n",
       "      <td>0.000000</td>\n",
       "      <td>NaN</td>\n",
       "    </tr>\n",
       "    <tr>\n",
       "      <th>75%</th>\n",
       "      <td>48.000000</td>\n",
       "      <td>NaN</td>\n",
       "      <td>NaN</td>\n",
       "      <td>NaN</td>\n",
       "      <td>NaN</td>\n",
       "      <td>1432.000000</td>\n",
       "      <td>NaN</td>\n",
       "      <td>NaN</td>\n",
       "      <td>NaN</td>\n",
       "      <td>21.000000</td>\n",
       "      <td>NaN</td>\n",
       "      <td>318.000000</td>\n",
       "      <td>3.000000</td>\n",
       "      <td>-1.000000</td>\n",
       "      <td>0.000000</td>\n",
       "      <td>NaN</td>\n",
       "    </tr>\n",
       "    <tr>\n",
       "      <th>max</th>\n",
       "      <td>95.000000</td>\n",
       "      <td>NaN</td>\n",
       "      <td>NaN</td>\n",
       "      <td>NaN</td>\n",
       "      <td>NaN</td>\n",
       "      <td>102127.000000</td>\n",
       "      <td>NaN</td>\n",
       "      <td>NaN</td>\n",
       "      <td>NaN</td>\n",
       "      <td>31.000000</td>\n",
       "      <td>NaN</td>\n",
       "      <td>4918.000000</td>\n",
       "      <td>63.000000</td>\n",
       "      <td>871.000000</td>\n",
       "      <td>275.000000</td>\n",
       "      <td>NaN</td>\n",
       "    </tr>\n",
       "  </tbody>\n",
       "</table>\n",
       "</div>"
      ],
      "text/plain": [
       "                 age          job  marital  education default        balance   \n",
       "count   33908.000000        33688    33908      32522   33908   33908.000000  \\\n",
       "unique           NaN           11        3          3       2            NaN   \n",
       "top              NaN  blue-collar  married  secondary      no            NaN   \n",
       "freq             NaN         7369    20445      17376   33306            NaN   \n",
       "mean       40.907957          NaN      NaN        NaN     NaN    1362.457709   \n",
       "std        10.620338          NaN      NaN        NaN     NaN    3052.176471   \n",
       "min        18.000000          NaN      NaN        NaN     NaN   -8019.000000   \n",
       "25%        33.000000          NaN      NaN        NaN     NaN      74.000000   \n",
       "50%        39.000000          NaN      NaN        NaN     NaN     451.000000   \n",
       "75%        48.000000          NaN      NaN        NaN     NaN    1432.000000   \n",
       "max        95.000000          NaN      NaN        NaN     NaN  102127.000000   \n",
       "\n",
       "       housing   loan   contact   day_of_week  month      duration   \n",
       "count    33908  33908     24180  33908.000000  33908  33908.000000  \\\n",
       "unique       2      2         2           NaN     12           NaN   \n",
       "top        yes     no  cellular           NaN    may           NaN   \n",
       "freq     18891  28471     22000           NaN  10310           NaN   \n",
       "mean       NaN    NaN       NaN     15.825233    NaN    258.473015   \n",
       "std        NaN    NaN       NaN      8.339007    NaN    258.936344   \n",
       "min        NaN    NaN       NaN      1.000000    NaN      0.000000   \n",
       "25%        NaN    NaN       NaN      8.000000    NaN    103.000000   \n",
       "50%        NaN    NaN       NaN     16.000000    NaN    180.000000   \n",
       "75%        NaN    NaN       NaN     21.000000    NaN    318.000000   \n",
       "max        NaN    NaN       NaN     31.000000    NaN   4918.000000   \n",
       "\n",
       "            campaign         pdays      previous poutcome  \n",
       "count   33908.000000  33908.000000  33908.000000     6153  \n",
       "unique           NaN           NaN           NaN        3  \n",
       "top              NaN           NaN           NaN  failure  \n",
       "freq             NaN           NaN           NaN     3645  \n",
       "mean        2.759555     40.024979      0.582635      NaN  \n",
       "std         3.094060    100.018015      2.445884      NaN  \n",
       "min         1.000000     -1.000000      0.000000      NaN  \n",
       "25%         1.000000     -1.000000      0.000000      NaN  \n",
       "50%         2.000000     -1.000000      0.000000      NaN  \n",
       "75%         3.000000     -1.000000      0.000000      NaN  \n",
       "max        63.000000    871.000000    275.000000      NaN  "
      ]
     },
     "execution_count": 15,
     "metadata": {},
     "output_type": "execute_result"
    }
   ],
   "source": [
    "X_train.describe(include = 'all')"
   ]
  },
  {
   "cell_type": "code",
   "execution_count": 16,
   "metadata": {},
   "outputs": [
    {
     "data": {
      "image/png": "[encoded data removed]",
      "text/plain": [
       "<Figure size 1500x1000 with 7 Axes>"
      ]
     },
     "metadata": {},
     "output_type": "display_data"
    }
   ],
   "source": [
    "#수치형 변수 시각화\n",
    "def get_3_hist(data:pd.DataFrame, columns:list):\n",
    "    \"\"\" 데이터와 컬럼을 전달하면 히스토그램을 3개씩 출력해주는 함수\n",
    "\n",
    "    Args:\n",
    "        data (pd.DataFrame): 데이터프레임\n",
    "        columns (list): 컬럼 리스트\n",
    "    \"\"\"\n",
    "    plt.figure(figsize=(15, 5 * (len(columns) // 3)))\n",
    "\n",
    "    for i, col in enumerate(columns):\n",
    "        # 서브플롯 위치 설정\n",
    "        plt.subplot(len(columns) // 3 + (len(columns) % 3 > 0), 3, i + 1)\n",
    "        # 히스토그램 그리기\n",
    "        sns.histplot(data[col])\n",
    "        plt.title(col)\n",
    "        \n",
    "\n",
    "    # 전체 그림 표시\n",
    "    plt.tight_layout()\n",
    "    plt.show()\n",
    "get_3_hist(X_train, numeric_col)"
   ]
  },
  {
   "cell_type": "code",
   "execution_count": 17,
   "metadata": {},
   "outputs": [],
   "source": [
    "# 이상치가 많은 컬럼에 대해서 로그스케일 적용\n",
    "\n",
    "#balance 값 보정\n",
    "balance_min = abs(min(X_train['balance'].min(), X_test['balance'].min()))\n",
    "X_train['balance'] = X_train['balance'] + balance_min\n",
    "X_test['balance'] = X_test['balance'] + balance_min\n",
    "\n",
    "# 로그스케일 적용\n",
    "for col in ['duration','balance','previous']:\n",
    "    X_train[col] = np.log1p(X_train[col])\n",
    "    X_test[col] = np.log1p(X_test[col])"
   ]
  },
  {
   "cell_type": "code",
   "execution_count": 18,
   "metadata": {},
   "outputs": [
    {
     "data": {
      "text/html": [
       "<div>\n",
       "<style scoped>\n",
       "    .dataframe tbody tr th:only-of-type {\n",
       "        vertical-align: middle;\n",
       "    }\n",
       "\n",
       "    .dataframe tbody tr th {\n",
       "        vertical-align: top;\n",
       "    }\n",
       "\n",
       "    .dataframe thead th {\n",
       "        text-align: right;\n",
       "    }\n",
       "</style>\n",
       "<table border=\"1\" class=\"dataframe\">\n",
       "  <thead>\n",
       "    <tr style=\"text-align: right;\">\n",
       "      <th></th>\n",
       "      <th>age</th>\n",
       "      <th>balance</th>\n",
       "      <th>day_of_week</th>\n",
       "      <th>duration</th>\n",
       "      <th>campaign</th>\n",
       "      <th>pdays</th>\n",
       "      <th>previous</th>\n",
       "    </tr>\n",
       "  </thead>\n",
       "  <tbody>\n",
       "    <tr>\n",
       "      <th>count</th>\n",
       "      <td>33908.000000</td>\n",
       "      <td>33908.000000</td>\n",
       "      <td>33908.000000</td>\n",
       "      <td>33908.000000</td>\n",
       "      <td>33908.000000</td>\n",
       "      <td>33908.000000</td>\n",
       "      <td>33908.000000</td>\n",
       "    </tr>\n",
       "    <tr>\n",
       "      <th>mean</th>\n",
       "      <td>40.907957</td>\n",
       "      <td>9.118624</td>\n",
       "      <td>15.825233</td>\n",
       "      <td>5.172125</td>\n",
       "      <td>2.759555</td>\n",
       "      <td>40.024979</td>\n",
       "      <td>0.225184</td>\n",
       "    </tr>\n",
       "    <tr>\n",
       "      <th>std</th>\n",
       "      <td>10.620338</td>\n",
       "      <td>0.214213</td>\n",
       "      <td>8.339007</td>\n",
       "      <td>0.922256</td>\n",
       "      <td>3.094060</td>\n",
       "      <td>100.018015</td>\n",
       "      <td>0.533092</td>\n",
       "    </tr>\n",
       "    <tr>\n",
       "      <th>min</th>\n",
       "      <td>18.000000</td>\n",
       "      <td>0.000000</td>\n",
       "      <td>1.000000</td>\n",
       "      <td>0.000000</td>\n",
       "      <td>1.000000</td>\n",
       "      <td>-1.000000</td>\n",
       "      <td>0.000000</td>\n",
       "    </tr>\n",
       "    <tr>\n",
       "      <th>25%</th>\n",
       "      <td>33.000000</td>\n",
       "      <td>8.998878</td>\n",
       "      <td>8.000000</td>\n",
       "      <td>4.644391</td>\n",
       "      <td>1.000000</td>\n",
       "      <td>-1.000000</td>\n",
       "      <td>0.000000</td>\n",
       "    </tr>\n",
       "    <tr>\n",
       "      <th>50%</th>\n",
       "      <td>39.000000</td>\n",
       "      <td>9.044404</td>\n",
       "      <td>16.000000</td>\n",
       "      <td>5.198497</td>\n",
       "      <td>2.000000</td>\n",
       "      <td>-1.000000</td>\n",
       "      <td>0.000000</td>\n",
       "    </tr>\n",
       "    <tr>\n",
       "      <th>75%</th>\n",
       "      <td>48.000000</td>\n",
       "      <td>9.153982</td>\n",
       "      <td>21.000000</td>\n",
       "      <td>5.765191</td>\n",
       "      <td>3.000000</td>\n",
       "      <td>-1.000000</td>\n",
       "      <td>0.000000</td>\n",
       "    </tr>\n",
       "    <tr>\n",
       "      <th>max</th>\n",
       "      <td>95.000000</td>\n",
       "      <td>11.609571</td>\n",
       "      <td>31.000000</td>\n",
       "      <td>8.500861</td>\n",
       "      <td>63.000000</td>\n",
       "      <td>871.000000</td>\n",
       "      <td>5.620401</td>\n",
       "    </tr>\n",
       "  </tbody>\n",
       "</table>\n",
       "</div>"
      ],
      "text/plain": [
       "                age       balance   day_of_week      duration      campaign   \n",
       "count  33908.000000  33908.000000  33908.000000  33908.000000  33908.000000  \\\n",
       "mean      40.907957      9.118624     15.825233      5.172125      2.759555   \n",
       "std       10.620338      0.214213      8.339007      0.922256      3.094060   \n",
       "min       18.000000      0.000000      1.000000      0.000000      1.000000   \n",
       "25%       33.000000      8.998878      8.000000      4.644391      1.000000   \n",
       "50%       39.000000      9.044404     16.000000      5.198497      2.000000   \n",
       "75%       48.000000      9.153982     21.000000      5.765191      3.000000   \n",
       "max       95.000000     11.609571     31.000000      8.500861     63.000000   \n",
       "\n",
       "              pdays      previous  \n",
       "count  33908.000000  33908.000000  \n",
       "mean      40.024979      0.225184  \n",
       "std      100.018015      0.533092  \n",
       "min       -1.000000      0.000000  \n",
       "25%       -1.000000      0.000000  \n",
       "50%       -1.000000      0.000000  \n",
       "75%       -1.000000      0.000000  \n",
       "max      871.000000      5.620401  "
      ]
     },
     "execution_count": 18,
     "metadata": {},
     "output_type": "execute_result"
    }
   ],
   "source": [
    "X_train.describe()"
   ]
  },
  {
   "cell_type": "code",
   "execution_count": 19,
   "metadata": {},
   "outputs": [
    {
     "data": {
      "image/png": "[encoded data removed]",
      "text/plain": [
       "<Figure size 1500x1000 with 7 Axes>"
      ]
     },
     "metadata": {},
     "output_type": "display_data"
    }
   ],
   "source": [
    "#로그스케일 변환 후 시각화\n",
    "get_3_hist(X_train, numeric_col)"
   ]
  },
  {
   "cell_type": "markdown",
   "metadata": {},
   "source": [
    "## 문제 2: Y 변수 인코딩 적용하기 \n",
    "- Y 라벨을 no,yes를 사용자 정의함수와 apply를 이용하여 0,1로 인코딩 하세요\n",
    "- 함수명은 get_binary로 설정하세요.\n",
    "- Pandas docs: https://pandas.pydata.org/docs/reference/api/pandas.DataFrame.apply.html"
   ]
  },
  {
   "cell_type": "code",
   "execution_count": 20,
   "metadata": {},
   "outputs": [
    {
     "data": {
      "text/html": [
       "<div>\n",
       "<style scoped>\n",
       "    .dataframe tbody tr th:only-of-type {\n",
       "        vertical-align: middle;\n",
       "    }\n",
       "\n",
       "    .dataframe tbody tr th {\n",
       "        vertical-align: top;\n",
       "    }\n",
       "\n",
       "    .dataframe thead th {\n",
       "        text-align: right;\n",
       "    }\n",
       "</style>\n",
       "<table border=\"1\" class=\"dataframe\">\n",
       "  <thead>\n",
       "    <tr style=\"text-align: right;\">\n",
       "      <th></th>\n",
       "      <th>y</th>\n",
       "    </tr>\n",
       "  </thead>\n",
       "  <tbody>\n",
       "    <tr>\n",
       "      <th>24915</th>\n",
       "      <td>0</td>\n",
       "    </tr>\n",
       "    <tr>\n",
       "      <th>11794</th>\n",
       "      <td>0</td>\n",
       "    </tr>\n",
       "    <tr>\n",
       "      <th>1279</th>\n",
       "      <td>0</td>\n",
       "    </tr>\n",
       "    <tr>\n",
       "      <th>913</th>\n",
       "      <td>0</td>\n",
       "    </tr>\n",
       "    <tr>\n",
       "      <th>5554</th>\n",
       "      <td>0</td>\n",
       "    </tr>\n",
       "    <tr>\n",
       "      <th>24126</th>\n",
       "      <td>1</td>\n",
       "    </tr>\n",
       "    <tr>\n",
       "      <th>38658</th>\n",
       "      <td>0</td>\n",
       "    </tr>\n",
       "    <tr>\n",
       "      <th>5469</th>\n",
       "      <td>0</td>\n",
       "    </tr>\n",
       "    <tr>\n",
       "      <th>14012</th>\n",
       "      <td>0</td>\n",
       "    </tr>\n",
       "    <tr>\n",
       "      <th>15788</th>\n",
       "      <td>0</td>\n",
       "    </tr>\n",
       "  </tbody>\n",
       "</table>\n",
       "</div>"
      ],
      "text/plain": [
       "       y\n",
       "24915  0\n",
       "11794  0\n",
       "1279   0\n",
       "913    0\n",
       "5554   0\n",
       "24126  1\n",
       "38658  0\n",
       "5469   0\n",
       "14012  0\n",
       "15788  0"
      ]
     },
     "metadata": {},
     "output_type": "display_data"
    }
   ],
   "source": [
    "'''문제 시작'''\n",
    "\n",
    "def get_binary(x):\n",
    "    \"\"\"\n",
    "    주어진 문자열 x가 'no'일 경우 0을 반환하고, 그렇지 않을 경우 1을 반환합니다.\n",
    "    이 함수는 일반적으로 두 가지 범주(예: 'yes'와 'no')를 가진 데이터를 이진 형식(0과 1)으로 변환하는 데 사용됩니다.\n",
    "\n",
    "    Args:\n",
    "        x (str): 변환할 문자열. 'no' 또는 그 외의 값을 가질 수 있습니다.\n",
    "    Returns:\n",
    "        int: 문자열 x가 'no'일 경우 0, 그렇지 않을 경우 1을 반환합니다.\n",
    "    \"\"\"\n",
    "    # 이부분을 작성해주세요\n",
    "    if x == 'no':\n",
    "        return 0\n",
    "    else:\n",
    "        return 1\n",
    "    \n",
    "# y_train 데이터 인코딩 코드\n",
    "y_train['y'] = y_train['y'].apply(get_binary)\n",
    "# y_test 데이터 인코딩코드\n",
    "y_test['y'] = y_test['y'].apply(get_binary)\n",
    "'''문제 끝'''\n",
    "#잘 적용되었는지 확인\n",
    "display(y_train[:10])\n"
   ]
  },
  {
   "cell_type": "markdown",
   "metadata": {},
   "source": [
    "## 문제3: 간단한 모델링 & 평가함수 생성하기\n",
    "- 평가하기 위한 다음 함수를 완성하세요\n",
    "- 필요한 모듈율 불러오고, 학습시키고, 결과를 저장하세요\n",
    "    - y_pred_train : 훈련데이터 예측결과 변수\n",
    "    - y_pred_test: 테스트데이터 예측결과 변수"
   ]
  },
  {
   "cell_type": "code",
   "execution_count": 21,
   "metadata": {},
   "outputs": [
    {
     "name": "stdout",
     "output_type": "stream",
     "text": [
      "Logistic Regression\n"
     ]
    },
    {
     "data": {
      "text/html": [
       "<div>\n",
       "<style scoped>\n",
       "    .dataframe tbody tr th:only-of-type {\n",
       "        vertical-align: middle;\n",
       "    }\n",
       "\n",
       "    .dataframe tbody tr th {\n",
       "        vertical-align: top;\n",
       "    }\n",
       "\n",
       "    .dataframe thead th {\n",
       "        text-align: right;\n",
       "    }\n",
       "</style>\n",
       "<table border=\"1\" class=\"dataframe\">\n",
       "  <thead>\n",
       "    <tr style=\"text-align: right;\">\n",
       "      <th></th>\n",
       "      <th>acc</th>\n",
       "      <th>f1_score</th>\n",
       "    </tr>\n",
       "  </thead>\n",
       "  <tbody>\n",
       "    <tr>\n",
       "      <th>train</th>\n",
       "      <td>0.89</td>\n",
       "      <td>0.23</td>\n",
       "    </tr>\n",
       "    <tr>\n",
       "      <th>test</th>\n",
       "      <td>0.89</td>\n",
       "      <td>0.20</td>\n",
       "    </tr>\n",
       "  </tbody>\n",
       "</table>\n",
       "</div>"
      ],
      "text/plain": [
       "        acc  f1_score\n",
       "train  0.89      0.23\n",
       "test   0.89      0.20"
      ]
     },
     "metadata": {},
     "output_type": "display_data"
    },
    {
     "name": "stdout",
     "output_type": "stream",
     "text": [
      "Decision Tree\n"
     ]
    },
    {
     "data": {
      "text/html": [
       "<div>\n",
       "<style scoped>\n",
       "    .dataframe tbody tr th:only-of-type {\n",
       "        vertical-align: middle;\n",
       "    }\n",
       "\n",
       "    .dataframe tbody tr th {\n",
       "        vertical-align: top;\n",
       "    }\n",
       "\n",
       "    .dataframe thead th {\n",
       "        text-align: right;\n",
       "    }\n",
       "</style>\n",
       "<table border=\"1\" class=\"dataframe\">\n",
       "  <thead>\n",
       "    <tr style=\"text-align: right;\">\n",
       "      <th></th>\n",
       "      <th>acc</th>\n",
       "      <th>f1_score</th>\n",
       "    </tr>\n",
       "  </thead>\n",
       "  <tbody>\n",
       "    <tr>\n",
       "      <th>train</th>\n",
       "      <td>0.90</td>\n",
       "      <td>0.34</td>\n",
       "    </tr>\n",
       "    <tr>\n",
       "      <th>test</th>\n",
       "      <td>0.88</td>\n",
       "      <td>0.19</td>\n",
       "    </tr>\n",
       "  </tbody>\n",
       "</table>\n",
       "</div>"
      ],
      "text/plain": [
       "        acc  f1_score\n",
       "train  0.90      0.34\n",
       "test   0.88      0.19"
      ]
     },
     "metadata": {},
     "output_type": "display_data"
    },
    {
     "name": "stdout",
     "output_type": "stream",
     "text": [
      "Random Forest\n"
     ]
    },
    {
     "data": {
      "text/html": [
       "<div>\n",
       "<style scoped>\n",
       "    .dataframe tbody tr th:only-of-type {\n",
       "        vertical-align: middle;\n",
       "    }\n",
       "\n",
       "    .dataframe tbody tr th {\n",
       "        vertical-align: top;\n",
       "    }\n",
       "\n",
       "    .dataframe thead th {\n",
       "        text-align: right;\n",
       "    }\n",
       "</style>\n",
       "<table border=\"1\" class=\"dataframe\">\n",
       "  <thead>\n",
       "    <tr style=\"text-align: right;\">\n",
       "      <th></th>\n",
       "      <th>acc</th>\n",
       "      <th>f1_score</th>\n",
       "    </tr>\n",
       "  </thead>\n",
       "  <tbody>\n",
       "    <tr>\n",
       "      <th>train</th>\n",
       "      <td>0.90</td>\n",
       "      <td>0.38</td>\n",
       "    </tr>\n",
       "    <tr>\n",
       "      <th>test</th>\n",
       "      <td>0.88</td>\n",
       "      <td>0.24</td>\n",
       "    </tr>\n",
       "  </tbody>\n",
       "</table>\n",
       "</div>"
      ],
      "text/plain": [
       "        acc  f1_score\n",
       "train  0.90      0.38\n",
       "test   0.88      0.24"
      ]
     },
     "metadata": {},
     "output_type": "display_data"
    }
   ],
   "source": [
    "def get_score(train:pd.DataFrame,  test:pd.DataFrame, x_var_list:list):\n",
    "    \"\"\" train과 test 데이터와 X변수 컬럼을 받아 평가지표를 내는 함수입니다.\n",
    "\n",
    "    Args:\n",
    "        train (pd.DataFrame): train 데이터프레임\n",
    "        test (pd.DataFrame): test 데이터프레임\n",
    "        x_var_list (list): 모델링에 사용할 변수 리스트\n",
    "    \"\"\"\n",
    "    #외부 전달인자를 내부변수에 할당\n",
    "    X_train = train \n",
    "    X_test = test\n",
    "\n",
    "    #일부 컬럼만 가져오기\n",
    "    X_train = X_train[x_var_list]\n",
    "    X_test = X_test[x_var_list]\n",
    "    \n",
    "    '''문제 시작'''\n",
    "    #모듈불러오기\n",
    "    from sklearn.linear_model import LogisticRegression\n",
    "    from sklearn.tree import DecisionTreeClassifier\n",
    "    from sklearn.ensemble import RandomForestClassifier\n",
    "    \n",
    "    from sklearn.metrics import accuracy_score, f1_score\n",
    "    #모델가져오기 & 학습하기\n",
    "    model_lor = LogisticRegression()\n",
    "    model_dt = DecisionTreeClassifier(random_state=42)\n",
    "    model_rf = RandomForestClassifier(random_state=42)\n",
    "    model_lor.fit(X_train, y_train)\n",
    "    model_dt.fit(X_train, y_train)\n",
    "    model_rf.fit(X_train, y_train)\n",
    "    \n",
    "    # 학습하여 결과 저장\n",
    "    lor_y_pred_train = model_lor.predict(X_train)\n",
    "    lor_y_pred_test = model_lor.predict(X_test)\n",
    "    dt_y_pred_train = model_dt.predict(X_train)\n",
    "    dt_y_pred_test = model_dt.predict(X_test)\n",
    "    rf_y_pred_train = model_rf.predict(X_train)\n",
    "    rf_y_pred_test = model_rf.predict(X_test)\n",
    "    \n",
    "    '''문제 끝'''\n",
    "    \n",
    "    #평가표 생성\n",
    "    lor_result = pd.DataFrame({'acc' : [accuracy_score(y_train, lor_y_pred_train), accuracy_score(y_test, lor_y_pred_test)],\n",
    "                            'f1_score' : [f1_score(y_train, lor_y_pred_train), f1_score(y_test, lor_y_pred_test)]},\n",
    "                            index = ['train','test'])\n",
    "    dt_result = pd.DataFrame({'acc' : [accuracy_score(y_train, dt_y_pred_train), accuracy_score(y_test, dt_y_pred_test)],\n",
    "                            'f1_score' : [f1_score(y_train, dt_y_pred_train), f1_score(y_test, dt_y_pred_test)]},\n",
    "                            index = ['train','test'])\n",
    "    rf_result = pd.DataFrame({'acc' : [accuracy_score(y_train, rf_y_pred_train), accuracy_score(y_test, rf_y_pred_test)],\n",
    "                            'f1_score' : [f1_score(y_train, rf_y_pred_train), f1_score(y_test, rf_y_pred_test)]},\n",
    "                            index = ['train','test'])\n",
    "    print(\"Logistic Regression\")\n",
    "    display(lor_result.round(2))\n",
    "    \n",
    "    print(\"Decision Tree\")\n",
    "    display(dt_result.round(2))\n",
    "    \n",
    "    print(\"Random Forest\")\n",
    "    display(rf_result.round(2))\n",
    "\n",
    "# duration 변수만 사용하여 결과내기\n",
    "get_score(X_train, X_test, ['duration'])"
   ]
  },
  {
   "cell_type": "markdown",
   "metadata": {},
   "source": [
    "## 문제4: 모델링 수행하기\n",
    "- 전체 변수를 가공하여 예측모델링을 수행하는 함수 get_numeric_sc를 완성해보세요"
   ]
  },
  {
   "cell_type": "code",
   "execution_count": 22,
   "metadata": {},
   "outputs": [],
   "source": [
    "def get_numeric_sc(X_train:pd.DataFrame, X_test:pd.DataFrame):\n",
    "    \"\"\"데이터를 전달받아 수치형 변수 스케일링하는 함수\n",
    "\n",
    "    Args:\n",
    "        X_train (pd.DataFrame): train 데이터프레임\n",
    "        X_test (pd.DataFrame):  test 데이터프레임\n",
    "\n",
    "    Returns:\n",
    "        pd.DataFrame, pd.DataFrame: train, test 데이터프레임\n",
    "    \"\"\"\n",
    "    # 수치형변수\n",
    "    # age, balance, day_of_week, duration, campaign, pdays,previous\n",
    "    \n",
    "    #StandardScaler 적용할 변수 리스트\n",
    "    sc_col = ['pdays','previous']\n",
    "    #MinMaxScaler 적용할 변수 리스트\n",
    "    mm_col = ['age','duration','day_of_week','balance','campaign']\n",
    "    \n",
    "    '''문제 시작'''\n",
    "    #모듈 불러오기\n",
    "    from sklearn.preprocessing import StandardScaler, MinMaxScaler\n",
    "    \n",
    "    #모델 가져오기\n",
    "    sd_sc = StandardScaler()\n",
    "    mm_sc = MinMaxScaler()\n",
    "\n",
    "    #train, test 데이터변환(Standard Scaler이용)\n",
    "    sd_sc.fit(X_train[sc_col])\n",
    "    X_train[sc_col] = sd_sc.transform(X_train[sc_col])\n",
    "    X_test[sc_col] = sd_sc.transform(X_test[sc_col])\n",
    "    #train, test 데이터변환(MinMax Scaler이용)\n",
    "    mm_sc.fit(X_train[mm_col])\n",
    "    X_train[mm_col] = mm_sc.transform(X_train[mm_col])\n",
    "    X_test[mm_col] = mm_sc.transform(X_test[mm_col])\n",
    "    \n",
    "    '''문제 끝'''\n",
    "    return X_train, X_test\n",
    "\n",
    "X_train, X_test = get_numeric_sc(X_train, X_test)"
   ]
  },
  {
   "cell_type": "code",
   "execution_count": 23,
   "metadata": {},
   "outputs": [
    {
     "name": "stdout",
     "output_type": "stream",
     "text": [
      "Logistic Regression\n"
     ]
    },
    {
     "data": {
      "text/html": [
       "<div>\n",
       "<style scoped>\n",
       "    .dataframe tbody tr th:only-of-type {\n",
       "        vertical-align: middle;\n",
       "    }\n",
       "\n",
       "    .dataframe tbody tr th {\n",
       "        vertical-align: top;\n",
       "    }\n",
       "\n",
       "    .dataframe thead th {\n",
       "        text-align: right;\n",
       "    }\n",
       "</style>\n",
       "<table border=\"1\" class=\"dataframe\">\n",
       "  <thead>\n",
       "    <tr style=\"text-align: right;\">\n",
       "      <th></th>\n",
       "      <th>acc</th>\n",
       "      <th>f1_score</th>\n",
       "    </tr>\n",
       "  </thead>\n",
       "  <tbody>\n",
       "    <tr>\n",
       "      <th>train</th>\n",
       "      <td>0.89</td>\n",
       "      <td>0.25</td>\n",
       "    </tr>\n",
       "    <tr>\n",
       "      <th>test</th>\n",
       "      <td>0.88</td>\n",
       "      <td>0.22</td>\n",
       "    </tr>\n",
       "  </tbody>\n",
       "</table>\n",
       "</div>"
      ],
      "text/plain": [
       "        acc  f1_score\n",
       "train  0.89      0.25\n",
       "test   0.88      0.22"
      ]
     },
     "metadata": {},
     "output_type": "display_data"
    },
    {
     "name": "stdout",
     "output_type": "stream",
     "text": [
      "Decision Tree\n"
     ]
    },
    {
     "data": {
      "text/html": [
       "<div>\n",
       "<style scoped>\n",
       "    .dataframe tbody tr th:only-of-type {\n",
       "        vertical-align: middle;\n",
       "    }\n",
       "\n",
       "    .dataframe tbody tr th {\n",
       "        vertical-align: top;\n",
       "    }\n",
       "\n",
       "    .dataframe thead th {\n",
       "        text-align: right;\n",
       "    }\n",
       "</style>\n",
       "<table border=\"1\" class=\"dataframe\">\n",
       "  <thead>\n",
       "    <tr style=\"text-align: right;\">\n",
       "      <th></th>\n",
       "      <th>acc</th>\n",
       "      <th>f1_score</th>\n",
       "    </tr>\n",
       "  </thead>\n",
       "  <tbody>\n",
       "    <tr>\n",
       "      <th>train</th>\n",
       "      <td>1.00</td>\n",
       "      <td>1.00</td>\n",
       "    </tr>\n",
       "    <tr>\n",
       "      <th>test</th>\n",
       "      <td>0.85</td>\n",
       "      <td>0.37</td>\n",
       "    </tr>\n",
       "  </tbody>\n",
       "</table>\n",
       "</div>"
      ],
      "text/plain": [
       "        acc  f1_score\n",
       "train  1.00      1.00\n",
       "test   0.85      0.37"
      ]
     },
     "metadata": {},
     "output_type": "display_data"
    },
    {
     "name": "stdout",
     "output_type": "stream",
     "text": [
      "Random Forest\n"
     ]
    },
    {
     "data": {
      "text/html": [
       "<div>\n",
       "<style scoped>\n",
       "    .dataframe tbody tr th:only-of-type {\n",
       "        vertical-align: middle;\n",
       "    }\n",
       "\n",
       "    .dataframe tbody tr th {\n",
       "        vertical-align: top;\n",
       "    }\n",
       "\n",
       "    .dataframe thead th {\n",
       "        text-align: right;\n",
       "    }\n",
       "</style>\n",
       "<table border=\"1\" class=\"dataframe\">\n",
       "  <thead>\n",
       "    <tr style=\"text-align: right;\">\n",
       "      <th></th>\n",
       "      <th>acc</th>\n",
       "      <th>f1_score</th>\n",
       "    </tr>\n",
       "  </thead>\n",
       "  <tbody>\n",
       "    <tr>\n",
       "      <th>train</th>\n",
       "      <td>1.00</td>\n",
       "      <td>1.00</td>\n",
       "    </tr>\n",
       "    <tr>\n",
       "      <th>test</th>\n",
       "      <td>0.89</td>\n",
       "      <td>0.41</td>\n",
       "    </tr>\n",
       "  </tbody>\n",
       "</table>\n",
       "</div>"
      ],
      "text/plain": [
       "        acc  f1_score\n",
       "train  1.00      1.00\n",
       "test   0.89      0.41"
      ]
     },
     "metadata": {},
     "output_type": "display_data"
    }
   ],
   "source": [
    "# 수치형 변수를 이용한 학습&평가\n",
    "get_score(X_train, X_test, numeric_col)"
   ]
  },
  {
   "cell_type": "markdown",
   "metadata": {},
   "source": [
    "## 범주형 변수 인코딩\n",
    "### job, month 변수 Label Encoder 적용\n",
    "- job 변수는 11개의 카테고리, month 변수는 12개의 카테고리를 가지기 때문에 더미 변수화 과정에서 dimensionality 가 증가하면서 차원의 저주에 걸릴 위험이 있습니다.?\n",
    "- 이를 방지하기 위해 두 변수는 label encoding 을 적용합니다."
   ]
  },
  {
   "cell_type": "markdown",
   "metadata": {},
   "source": [
    "### Dummy Variable Trap 확인하기\n",
    "- 더미 변수들 중 다중공선성을 가지는 변수가 존재하면 dummy variable trap 에 빠질 위험이 있습니다.\n",
    "- 이를 방지하기 위해 변수의 상관관계를 파악하고 상관계수가 높은 변수를 인코딩에서 drop 시킵니다."
   ]
  },
  {
   "cell_type": "code",
   "execution_count": 24,
   "metadata": {},
   "outputs": [
    {
     "data": {
      "text/plain": [
       "<Axes: >"
      ]
     },
     "execution_count": 24,
     "metadata": {},
     "output_type": "execute_result"
    },
    {
     "data": {
      "image/png": "[encoded data removed]",
      "text/plain": [
       "<Figure size 640x480 with 2 Axes>"
      ]
     },
     "metadata": {},
     "output_type": "display_data"
    }
   ],
   "source": [
    "job_dummies = pd.get_dummies(df['marital'])\n",
    "corr = job_dummies.corr(method='pearson')\n",
    "sns.heatmap(corr, annot=True)\n",
    "# drop single"
   ]
  },
  {
   "cell_type": "markdown",
   "metadata": {},
   "source": [
    "- martial 변수의 married, single 은 -0.77의 높은 음의 상관관계를 가집니다. 싱글이면 결혼하지 않았다는 뜻이니 당연합니다. 인코딩 과정에서 single 변수를 제거해 multicolinearity 를 방지합니다."
   ]
  },
  {
   "cell_type": "code",
   "execution_count": 25,
   "metadata": {},
   "outputs": [
    {
     "data": {
      "text/plain": [
       "<Axes: >"
      ]
     },
     "execution_count": 25,
     "metadata": {},
     "output_type": "execute_result"
    },
    {
     "data": {
      "image/png": "[encoded data removed]",
      "text/plain": [
       "<Figure size 640x480 with 2 Axes>"
      ]
     },
     "metadata": {},
     "output_type": "display_data"
    }
   ],
   "source": [
    "job_dummies = pd.get_dummies(df['education'])\n",
    "corr = job_dummies.corr(method='pearson')\n",
    "sns.heatmap(corr, annot=True)\n",
    "#drop secondary"
   ]
  },
  {
   "cell_type": "markdown",
   "metadata": {},
   "source": [
    "- education 변수의 secondary(중등교육) 와 tertiary(고등교육)은 -0.66 으로 높은 음의 상관관계를 가집니다. 왜일까요? 잘 모르겠습니다. 어찌되었든 secondary 변수를 제거해줍니다."
   ]
  },
  {
   "cell_type": "code",
   "execution_count": 26,
   "metadata": {},
   "outputs": [
    {
     "data": {
      "text/plain": [
       "<Axes: >"
      ]
     },
     "execution_count": 26,
     "metadata": {},
     "output_type": "execute_result"
    },
    {
     "data": {
      "image/png": "[encoded data removed]",
      "text/plain": [
       "<Figure size 640x480 with 2 Axes>"
      ]
     },
     "metadata": {},
     "output_type": "display_data"
    }
   ],
   "source": [
    "job_dummies = pd.get_dummies(df['default'])\n",
    "corr = job_dummies.corr(method='pearson')\n",
    "sns.heatmap(corr, annot=True)\n",
    "#drop first"
   ]
  },
  {
   "cell_type": "markdown",
   "metadata": {},
   "source": [
    "- default, housing, loan 경우에 binary result (yes or no) 이기 때문에 완벽한 음수의 상관관계를 가집니다. get_dummies 의 drop_first 파라미터를 통해 변수 하나를 없애주겠습니다."
   ]
  },
  {
   "cell_type": "code",
   "execution_count": 27,
   "metadata": {},
   "outputs": [
    {
     "data": {
      "text/plain": [
       "<Axes: >"
      ]
     },
     "execution_count": 27,
     "metadata": {},
     "output_type": "execute_result"
    },
    {
     "data": {
      "image/png": "[encoded data removed]",
      "text/plain": [
       "<Figure size 640x480 with 2 Axes>"
      ]
     },
     "metadata": {},
     "output_type": "display_data"
    }
   ],
   "source": [
    "job_dummies = pd.get_dummies(df['contact'])\n",
    "corr = job_dummies.corr(method='pearson')\n",
    "sns.heatmap(corr, annot=True)"
   ]
  },
  {
   "cell_type": "code",
   "execution_count": 28,
   "metadata": {},
   "outputs": [
    {
     "data": {
      "text/plain": [
       "<Axes: >"
      ]
     },
     "execution_count": 28,
     "metadata": {},
     "output_type": "execute_result"
    },
    {
     "data": {
      "image/png": "[encoded data removed]",
      "text/plain": [
       "<Figure size 640x480 with 2 Axes>"
      ]
     },
     "metadata": {},
     "output_type": "display_data"
    }
   ],
   "source": [
    "job_dummies = pd.get_dummies(df['poutcome'])\n",
    "corr = job_dummies.corr(method='pearson')\n",
    "sns.heatmap(corr, annot=True)"
   ]
  },
  {
   "cell_type": "markdown",
   "metadata": {},
   "source": [
    "- contact , poutcome 변수는 높은 관계가 나타나지 않으므로 get_dummies 메서드를 사용합니다."
   ]
  },
  {
   "cell_type": "code",
   "execution_count": 29,
   "metadata": {},
   "outputs": [
    {
     "data": {
      "text/html": [
       "<div>\n",
       "<style scoped>\n",
       "    .dataframe tbody tr th:only-of-type {\n",
       "        vertical-align: middle;\n",
       "    }\n",
       "\n",
       "    .dataframe tbody tr th {\n",
       "        vertical-align: top;\n",
       "    }\n",
       "\n",
       "    .dataframe thead th {\n",
       "        text-align: right;\n",
       "    }\n",
       "</style>\n",
       "<table border=\"1\" class=\"dataframe\">\n",
       "  <thead>\n",
       "    <tr style=\"text-align: right;\">\n",
       "      <th></th>\n",
       "      <th>index</th>\n",
       "      <th>age</th>\n",
       "      <th>job</th>\n",
       "      <th>marital</th>\n",
       "      <th>education</th>\n",
       "      <th>default</th>\n",
       "      <th>balance</th>\n",
       "      <th>housing</th>\n",
       "      <th>loan</th>\n",
       "      <th>contact</th>\n",
       "      <th>...</th>\n",
       "      <th>education_tertiary</th>\n",
       "      <th>education_nan</th>\n",
       "      <th>default_yes</th>\n",
       "      <th>housing_yes</th>\n",
       "      <th>loan_yes</th>\n",
       "      <th>contact_cellular</th>\n",
       "      <th>contact_telephone</th>\n",
       "      <th>poutcome_failure</th>\n",
       "      <th>poutcome_other</th>\n",
       "      <th>poutcome_success</th>\n",
       "    </tr>\n",
       "  </thead>\n",
       "  <tbody>\n",
       "    <tr>\n",
       "      <th>0</th>\n",
       "      <td>24915</td>\n",
       "      <td>0.519481</td>\n",
       "      <td>management</td>\n",
       "      <td>married</td>\n",
       "      <td>tertiary</td>\n",
       "      <td>no</td>\n",
       "      <td>0.774335</td>\n",
       "      <td>yes</td>\n",
       "      <td>no</td>\n",
       "      <td>cellular</td>\n",
       "      <td>...</td>\n",
       "      <td>1.0</td>\n",
       "      <td>0.0</td>\n",
       "      <td>False</td>\n",
       "      <td>True</td>\n",
       "      <td>False</td>\n",
       "      <td>True</td>\n",
       "      <td>False</td>\n",
       "      <td>True</td>\n",
       "      <td>False</td>\n",
       "      <td>False</td>\n",
       "    </tr>\n",
       "    <tr>\n",
       "      <th>1</th>\n",
       "      <td>11794</td>\n",
       "      <td>0.376623</td>\n",
       "      <td>services</td>\n",
       "      <td>divorced</td>\n",
       "      <td>secondary</td>\n",
       "      <td>no</td>\n",
       "      <td>0.777363</td>\n",
       "      <td>no</td>\n",
       "      <td>no</td>\n",
       "      <td>NaN</td>\n",
       "      <td>...</td>\n",
       "      <td>0.0</td>\n",
       "      <td>0.0</td>\n",
       "      <td>False</td>\n",
       "      <td>False</td>\n",
       "      <td>False</td>\n",
       "      <td>False</td>\n",
       "      <td>False</td>\n",
       "      <td>False</td>\n",
       "      <td>False</td>\n",
       "      <td>False</td>\n",
       "    </tr>\n",
       "    <tr>\n",
       "      <th>2</th>\n",
       "      <td>1279</td>\n",
       "      <td>0.220779</td>\n",
       "      <td>management</td>\n",
       "      <td>single</td>\n",
       "      <td>tertiary</td>\n",
       "      <td>no</td>\n",
       "      <td>0.782495</td>\n",
       "      <td>yes</td>\n",
       "      <td>no</td>\n",
       "      <td>NaN</td>\n",
       "      <td>...</td>\n",
       "      <td>1.0</td>\n",
       "      <td>0.0</td>\n",
       "      <td>False</td>\n",
       "      <td>True</td>\n",
       "      <td>False</td>\n",
       "      <td>False</td>\n",
       "      <td>False</td>\n",
       "      <td>False</td>\n",
       "      <td>False</td>\n",
       "      <td>False</td>\n",
       "    </tr>\n",
       "    <tr>\n",
       "      <th>3</th>\n",
       "      <td>913</td>\n",
       "      <td>0.207792</td>\n",
       "      <td>admin.</td>\n",
       "      <td>divorced</td>\n",
       "      <td>secondary</td>\n",
       "      <td>no</td>\n",
       "      <td>0.780818</td>\n",
       "      <td>yes</td>\n",
       "      <td>no</td>\n",
       "      <td>NaN</td>\n",
       "      <td>...</td>\n",
       "      <td>0.0</td>\n",
       "      <td>0.0</td>\n",
       "      <td>False</td>\n",
       "      <td>True</td>\n",
       "      <td>False</td>\n",
       "      <td>False</td>\n",
       "      <td>False</td>\n",
       "      <td>False</td>\n",
       "      <td>False</td>\n",
       "      <td>False</td>\n",
       "    </tr>\n",
       "    <tr>\n",
       "      <th>4</th>\n",
       "      <td>5554</td>\n",
       "      <td>0.220779</td>\n",
       "      <td>admin.</td>\n",
       "      <td>single</td>\n",
       "      <td>secondary</td>\n",
       "      <td>no</td>\n",
       "      <td>0.775307</td>\n",
       "      <td>yes</td>\n",
       "      <td>no</td>\n",
       "      <td>NaN</td>\n",
       "      <td>...</td>\n",
       "      <td>0.0</td>\n",
       "      <td>0.0</td>\n",
       "      <td>False</td>\n",
       "      <td>True</td>\n",
       "      <td>False</td>\n",
       "      <td>False</td>\n",
       "      <td>False</td>\n",
       "      <td>False</td>\n",
       "      <td>False</td>\n",
       "      <td>False</td>\n",
       "    </tr>\n",
       "    <tr>\n",
       "      <th>...</th>\n",
       "      <td>...</td>\n",
       "      <td>...</td>\n",
       "      <td>...</td>\n",
       "      <td>...</td>\n",
       "      <td>...</td>\n",
       "      <td>...</td>\n",
       "      <td>...</td>\n",
       "      <td>...</td>\n",
       "      <td>...</td>\n",
       "      <td>...</td>\n",
       "      <td>...</td>\n",
       "      <td>...</td>\n",
       "      <td>...</td>\n",
       "      <td>...</td>\n",
       "      <td>...</td>\n",
       "      <td>...</td>\n",
       "      <td>...</td>\n",
       "      <td>...</td>\n",
       "      <td>...</td>\n",
       "      <td>...</td>\n",
       "      <td>...</td>\n",
       "    </tr>\n",
       "    <tr>\n",
       "      <th>33903</th>\n",
       "      <td>10010</td>\n",
       "      <td>0.298701</td>\n",
       "      <td>management</td>\n",
       "      <td>single</td>\n",
       "      <td>tertiary</td>\n",
       "      <td>no</td>\n",
       "      <td>0.785529</td>\n",
       "      <td>yes</td>\n",
       "      <td>yes</td>\n",
       "      <td>NaN</td>\n",
       "      <td>...</td>\n",
       "      <td>1.0</td>\n",
       "      <td>0.0</td>\n",
       "      <td>False</td>\n",
       "      <td>True</td>\n",
       "      <td>True</td>\n",
       "      <td>False</td>\n",
       "      <td>False</td>\n",
       "      <td>False</td>\n",
       "      <td>False</td>\n",
       "      <td>False</td>\n",
       "    </tr>\n",
       "    <tr>\n",
       "      <th>33904</th>\n",
       "      <td>26216</td>\n",
       "      <td>0.285714</td>\n",
       "      <td>services</td>\n",
       "      <td>single</td>\n",
       "      <td>secondary</td>\n",
       "      <td>no</td>\n",
       "      <td>0.789527</td>\n",
       "      <td>yes</td>\n",
       "      <td>no</td>\n",
       "      <td>cellular</td>\n",
       "      <td>...</td>\n",
       "      <td>0.0</td>\n",
       "      <td>0.0</td>\n",
       "      <td>False</td>\n",
       "      <td>True</td>\n",
       "      <td>False</td>\n",
       "      <td>True</td>\n",
       "      <td>False</td>\n",
       "      <td>False</td>\n",
       "      <td>False</td>\n",
       "      <td>False</td>\n",
       "    </tr>\n",
       "    <tr>\n",
       "      <th>33905</th>\n",
       "      <td>15941</td>\n",
       "      <td>0.233766</td>\n",
       "      <td>admin.</td>\n",
       "      <td>single</td>\n",
       "      <td>secondary</td>\n",
       "      <td>no</td>\n",
       "      <td>0.774571</td>\n",
       "      <td>yes</td>\n",
       "      <td>no</td>\n",
       "      <td>cellular</td>\n",
       "      <td>...</td>\n",
       "      <td>0.0</td>\n",
       "      <td>0.0</td>\n",
       "      <td>False</td>\n",
       "      <td>True</td>\n",
       "      <td>False</td>\n",
       "      <td>True</td>\n",
       "      <td>False</td>\n",
       "      <td>False</td>\n",
       "      <td>False</td>\n",
       "      <td>False</td>\n",
       "    </tr>\n",
       "    <tr>\n",
       "      <th>33906</th>\n",
       "      <td>16952</td>\n",
       "      <td>0.350649</td>\n",
       "      <td>blue-collar</td>\n",
       "      <td>married</td>\n",
       "      <td>secondary</td>\n",
       "      <td>no</td>\n",
       "      <td>0.775179</td>\n",
       "      <td>yes</td>\n",
       "      <td>no</td>\n",
       "      <td>cellular</td>\n",
       "      <td>...</td>\n",
       "      <td>0.0</td>\n",
       "      <td>0.0</td>\n",
       "      <td>False</td>\n",
       "      <td>True</td>\n",
       "      <td>False</td>\n",
       "      <td>True</td>\n",
       "      <td>False</td>\n",
       "      <td>False</td>\n",
       "      <td>False</td>\n",
       "      <td>False</td>\n",
       "    </tr>\n",
       "    <tr>\n",
       "      <th>33907</th>\n",
       "      <td>34781</td>\n",
       "      <td>0.116883</td>\n",
       "      <td>management</td>\n",
       "      <td>single</td>\n",
       "      <td>tertiary</td>\n",
       "      <td>no</td>\n",
       "      <td>0.798189</td>\n",
       "      <td>yes</td>\n",
       "      <td>no</td>\n",
       "      <td>cellular</td>\n",
       "      <td>...</td>\n",
       "      <td>1.0</td>\n",
       "      <td>0.0</td>\n",
       "      <td>False</td>\n",
       "      <td>True</td>\n",
       "      <td>False</td>\n",
       "      <td>True</td>\n",
       "      <td>False</td>\n",
       "      <td>False</td>\n",
       "      <td>False</td>\n",
       "      <td>False</td>\n",
       "    </tr>\n",
       "  </tbody>\n",
       "</table>\n",
       "<p>33908 rows × 32 columns</p>\n",
       "</div>"
      ],
      "text/plain": [
       "       index       age          job   marital  education default   balance   \n",
       "0      24915  0.519481   management   married   tertiary      no  0.774335  \\\n",
       "1      11794  0.376623     services  divorced  secondary      no  0.777363   \n",
       "2       1279  0.220779   management    single   tertiary      no  0.782495   \n",
       "3        913  0.207792       admin.  divorced  secondary      no  0.780818   \n",
       "4       5554  0.220779       admin.    single  secondary      no  0.775307   \n",
       "...      ...       ...          ...       ...        ...     ...       ...   \n",
       "33903  10010  0.298701   management    single   tertiary      no  0.785529   \n",
       "33904  26216  0.285714     services    single  secondary      no  0.789527   \n",
       "33905  15941  0.233766       admin.    single  secondary      no  0.774571   \n",
       "33906  16952  0.350649  blue-collar   married  secondary      no  0.775179   \n",
       "33907  34781  0.116883   management    single   tertiary      no  0.798189   \n",
       "\n",
       "      housing loan   contact  ...  education_tertiary education_nan   \n",
       "0         yes   no  cellular  ...                 1.0           0.0  \\\n",
       "1          no   no       NaN  ...                 0.0           0.0   \n",
       "2         yes   no       NaN  ...                 1.0           0.0   \n",
       "3         yes   no       NaN  ...                 0.0           0.0   \n",
       "4         yes   no       NaN  ...                 0.0           0.0   \n",
       "...       ...  ...       ...  ...                 ...           ...   \n",
       "33903     yes  yes       NaN  ...                 1.0           0.0   \n",
       "33904     yes   no  cellular  ...                 0.0           0.0   \n",
       "33905     yes   no  cellular  ...                 0.0           0.0   \n",
       "33906     yes   no  cellular  ...                 0.0           0.0   \n",
       "33907     yes   no  cellular  ...                 1.0           0.0   \n",
       "\n",
       "       default_yes  housing_yes  loan_yes  contact_cellular contact_telephone   \n",
       "0            False         True     False              True             False  \\\n",
       "1            False        False     False             False             False   \n",
       "2            False         True     False             False             False   \n",
       "3            False         True     False             False             False   \n",
       "4            False         True     False             False             False   \n",
       "...            ...          ...       ...               ...               ...   \n",
       "33903        False         True      True             False             False   \n",
       "33904        False         True     False              True             False   \n",
       "33905        False         True     False              True             False   \n",
       "33906        False         True     False              True             False   \n",
       "33907        False         True     False              True             False   \n",
       "\n",
       "       poutcome_failure  poutcome_other  poutcome_success  \n",
       "0                  True           False             False  \n",
       "1                 False           False             False  \n",
       "2                 False           False             False  \n",
       "3                 False           False             False  \n",
       "4                 False           False             False  \n",
       "...                 ...             ...               ...  \n",
       "33903             False           False             False  \n",
       "33904             False           False             False  \n",
       "33905             False           False             False  \n",
       "33906             False           False             False  \n",
       "33907             False           False             False  \n",
       "\n",
       "[33908 rows x 32 columns]"
      ]
     },
     "execution_count": 29,
     "metadata": {},
     "output_type": "execute_result"
    }
   ],
   "source": [
    "def get_category(X_train:pd.DataFrame, X_test:pd.DataFrame):\n",
    "    \"\"\" 데이터를 전달받아 범주형 변수 더미화하는 함수\n",
    "\n",
    "    Args:\n",
    "        X_train (pd.DataFrame): train 데이터프레임\n",
    "        X_test (pd.DataFrame):  test 데이터프레임\n",
    "\n",
    "    Returns:\n",
    "        pd.DataFrame, pd.DataFrmae, list: train, test 데이터프레임, 더미화된 컬럼\n",
    "    \"\"\"\n",
    "    \n",
    "    #범주형변수\n",
    "    # 'job','marital','education','default','housing','loan','contact','month','poutcome'\n",
    "    \n",
    "    #모듈 import\n",
    "    from sklearn.preprocessing import LabelEncoder\n",
    "    from sklearn.preprocessing import OneHotEncoder\n",
    "    \n",
    "    # job, month\n",
    "    column_list = ['job_le', 'month_le']\n",
    "    le = LabelEncoder()\n",
    "    X_train['job_le'] = le.fit_transform(X_train['job'])\n",
    "    X_test['job_le'] = le.fit_transform(X_test['job'])\n",
    "    X_train['month_le'] = le.fit_transform(X_train['month'])\n",
    "    X_test['month_le'] = le.fit_transform(X_test['month'])\n",
    "    \n",
    "    #reset index\n",
    "    X_train = X_train.reset_index()\n",
    "    X_test = X_test.reset_index()\n",
    "    \n",
    "    # marital\n",
    "    oe = OneHotEncoder(drop=['single'])\n",
    "    train_oe = oe.fit_transform(X_train[['marital']])\n",
    "    X_train_marital = pd.DataFrame(train_oe.toarray(), columns=oe.get_feature_names_out())\n",
    "    test_oe = oe.fit_transform(X_test[['marital']])\n",
    "    X_test_marital = pd.DataFrame(test_oe.toarray(), columns=oe.get_feature_names_out())\n",
    "    column_list += oe.get_feature_names_out().tolist()\n",
    "    \n",
    "    # education\n",
    "    oe = OneHotEncoder(drop=['secondary'])\n",
    "    train_oe = oe.fit_transform(X_train[['education']])\n",
    "    X_train_edu = pd.DataFrame(train_oe.toarray(), columns=oe.get_feature_names_out())\n",
    "    test_oe = oe.fit_transform(X_test[['education']])\n",
    "    X_test_edu = pd.DataFrame(test_oe.toarray(), columns=oe.get_feature_names_out())\n",
    "    column_list += oe.get_feature_names_out().tolist()\n",
    "   \n",
    "    # default, housing, loan\n",
    "    X_train_dummies_drop_first = pd.get_dummies(X_train[['default', 'housing', 'loan']], drop_first=True)\n",
    "    X_test_dummies_drop_first = pd.get_dummies(X_test[['default', 'housing', 'loan']], drop_first=True)\n",
    "    column_list += X_train_dummies_drop_first.columns.to_list()\n",
    "\n",
    "    # contact, poutcome\n",
    "    X_train_dummies = pd.get_dummies(X_train[['contact', 'poutcome']])\n",
    "    X_test_dummies = pd.get_dummies(X_test[['contact', 'poutcome']])\n",
    "    column_list += X_train_dummies.columns.to_list()\n",
    "\n",
    "    # 더미화한 변수를 기존 데이터셋에 합치기\n",
    "    X_train = pd.concat([X_train, X_train_marital, X_train_edu, X_train_dummies_drop_first, X_train_dummies], axis = 1)\n",
    "    X_test = pd.concat([X_test, X_test_marital, X_test_edu, X_test_dummies_drop_first, X_test_dummies], axis = 1)\n",
    "    \n",
    "    return X_train, X_test, column_list\n",
    "    \n",
    "\n",
    "X_train, X_test, col_dummies = get_category(X_train,X_test)\n",
    "X_train"
   ]
  },
  {
   "cell_type": "code",
   "execution_count": 30,
   "metadata": {},
   "outputs": [
    {
     "name": "stdout",
     "output_type": "stream",
     "text": [
      "Logistic Regression\n"
     ]
    },
    {
     "data": {
      "text/html": [
       "<div>\n",
       "<style scoped>\n",
       "    .dataframe tbody tr th:only-of-type {\n",
       "        vertical-align: middle;\n",
       "    }\n",
       "\n",
       "    .dataframe tbody tr th {\n",
       "        vertical-align: top;\n",
       "    }\n",
       "\n",
       "    .dataframe thead th {\n",
       "        text-align: right;\n",
       "    }\n",
       "</style>\n",
       "<table border=\"1\" class=\"dataframe\">\n",
       "  <thead>\n",
       "    <tr style=\"text-align: right;\">\n",
       "      <th></th>\n",
       "      <th>acc</th>\n",
       "      <th>f1_score</th>\n",
       "    </tr>\n",
       "  </thead>\n",
       "  <tbody>\n",
       "    <tr>\n",
       "      <th>train</th>\n",
       "      <td>0.89</td>\n",
       "      <td>0.26</td>\n",
       "    </tr>\n",
       "    <tr>\n",
       "      <th>test</th>\n",
       "      <td>0.89</td>\n",
       "      <td>0.28</td>\n",
       "    </tr>\n",
       "  </tbody>\n",
       "</table>\n",
       "</div>"
      ],
      "text/plain": [
       "        acc  f1_score\n",
       "train  0.89      0.26\n",
       "test   0.89      0.28"
      ]
     },
     "metadata": {},
     "output_type": "display_data"
    },
    {
     "name": "stdout",
     "output_type": "stream",
     "text": [
      "Decision Tree\n"
     ]
    },
    {
     "data": {
      "text/html": [
       "<div>\n",
       "<style scoped>\n",
       "    .dataframe tbody tr th:only-of-type {\n",
       "        vertical-align: middle;\n",
       "    }\n",
       "\n",
       "    .dataframe tbody tr th {\n",
       "        vertical-align: top;\n",
       "    }\n",
       "\n",
       "    .dataframe thead th {\n",
       "        text-align: right;\n",
       "    }\n",
       "</style>\n",
       "<table border=\"1\" class=\"dataframe\">\n",
       "  <thead>\n",
       "    <tr style=\"text-align: right;\">\n",
       "      <th></th>\n",
       "      <th>acc</th>\n",
       "      <th>f1_score</th>\n",
       "    </tr>\n",
       "  </thead>\n",
       "  <tbody>\n",
       "    <tr>\n",
       "      <th>train</th>\n",
       "      <td>0.92</td>\n",
       "      <td>0.52</td>\n",
       "    </tr>\n",
       "    <tr>\n",
       "      <th>test</th>\n",
       "      <td>0.88</td>\n",
       "      <td>0.30</td>\n",
       "    </tr>\n",
       "  </tbody>\n",
       "</table>\n",
       "</div>"
      ],
      "text/plain": [
       "        acc  f1_score\n",
       "train  0.92      0.52\n",
       "test   0.88      0.30"
      ]
     },
     "metadata": {},
     "output_type": "display_data"
    },
    {
     "name": "stdout",
     "output_type": "stream",
     "text": [
      "Random Forest\n"
     ]
    },
    {
     "data": {
      "text/html": [
       "<div>\n",
       "<style scoped>\n",
       "    .dataframe tbody tr th:only-of-type {\n",
       "        vertical-align: middle;\n",
       "    }\n",
       "\n",
       "    .dataframe tbody tr th {\n",
       "        vertical-align: top;\n",
       "    }\n",
       "\n",
       "    .dataframe thead th {\n",
       "        text-align: right;\n",
       "    }\n",
       "</style>\n",
       "<table border=\"1\" class=\"dataframe\">\n",
       "  <thead>\n",
       "    <tr style=\"text-align: right;\">\n",
       "      <th></th>\n",
       "      <th>acc</th>\n",
       "      <th>f1_score</th>\n",
       "    </tr>\n",
       "  </thead>\n",
       "  <tbody>\n",
       "    <tr>\n",
       "      <th>train</th>\n",
       "      <td>0.92</td>\n",
       "      <td>0.54</td>\n",
       "    </tr>\n",
       "    <tr>\n",
       "      <th>test</th>\n",
       "      <td>0.88</td>\n",
       "      <td>0.31</td>\n",
       "    </tr>\n",
       "  </tbody>\n",
       "</table>\n",
       "</div>"
      ],
      "text/plain": [
       "        acc  f1_score\n",
       "train  0.92      0.54\n",
       "test   0.88      0.31"
      ]
     },
     "metadata": {},
     "output_type": "display_data"
    }
   ],
   "source": [
    "# 범주형 변수를 이용한 학습&평가\n",
    "get_score(X_train,X_test, col_dummies)"
   ]
  },
  {
   "cell_type": "code",
   "execution_count": 31,
   "metadata": {},
   "outputs": [
    {
     "name": "stdout",
     "output_type": "stream",
     "text": [
      "Logistic Regression\n"
     ]
    },
    {
     "data": {
      "text/html": [
       "<div>\n",
       "<style scoped>\n",
       "    .dataframe tbody tr th:only-of-type {\n",
       "        vertical-align: middle;\n",
       "    }\n",
       "\n",
       "    .dataframe tbody tr th {\n",
       "        vertical-align: top;\n",
       "    }\n",
       "\n",
       "    .dataframe thead th {\n",
       "        text-align: right;\n",
       "    }\n",
       "</style>\n",
       "<table border=\"1\" class=\"dataframe\">\n",
       "  <thead>\n",
       "    <tr style=\"text-align: right;\">\n",
       "      <th></th>\n",
       "      <th>acc</th>\n",
       "      <th>f1_score</th>\n",
       "    </tr>\n",
       "  </thead>\n",
       "  <tbody>\n",
       "    <tr>\n",
       "      <th>train</th>\n",
       "      <td>0.9</td>\n",
       "      <td>0.42</td>\n",
       "    </tr>\n",
       "    <tr>\n",
       "      <th>test</th>\n",
       "      <td>0.9</td>\n",
       "      <td>0.42</td>\n",
       "    </tr>\n",
       "  </tbody>\n",
       "</table>\n",
       "</div>"
      ],
      "text/plain": [
       "       acc  f1_score\n",
       "train  0.9      0.42\n",
       "test   0.9      0.42"
      ]
     },
     "metadata": {},
     "output_type": "display_data"
    },
    {
     "name": "stdout",
     "output_type": "stream",
     "text": [
      "Decision Tree\n"
     ]
    },
    {
     "data": {
      "text/html": [
       "<div>\n",
       "<style scoped>\n",
       "    .dataframe tbody tr th:only-of-type {\n",
       "        vertical-align: middle;\n",
       "    }\n",
       "\n",
       "    .dataframe tbody tr th {\n",
       "        vertical-align: top;\n",
       "    }\n",
       "\n",
       "    .dataframe thead th {\n",
       "        text-align: right;\n",
       "    }\n",
       "</style>\n",
       "<table border=\"1\" class=\"dataframe\">\n",
       "  <thead>\n",
       "    <tr style=\"text-align: right;\">\n",
       "      <th></th>\n",
       "      <th>acc</th>\n",
       "      <th>f1_score</th>\n",
       "    </tr>\n",
       "  </thead>\n",
       "  <tbody>\n",
       "    <tr>\n",
       "      <th>train</th>\n",
       "      <td>1.00</td>\n",
       "      <td>1.00</td>\n",
       "    </tr>\n",
       "    <tr>\n",
       "      <th>test</th>\n",
       "      <td>0.87</td>\n",
       "      <td>0.48</td>\n",
       "    </tr>\n",
       "  </tbody>\n",
       "</table>\n",
       "</div>"
      ],
      "text/plain": [
       "        acc  f1_score\n",
       "train  1.00      1.00\n",
       "test   0.87      0.48"
      ]
     },
     "metadata": {},
     "output_type": "display_data"
    },
    {
     "name": "stdout",
     "output_type": "stream",
     "text": [
      "Random Forest\n"
     ]
    },
    {
     "data": {
      "text/html": [
       "<div>\n",
       "<style scoped>\n",
       "    .dataframe tbody tr th:only-of-type {\n",
       "        vertical-align: middle;\n",
       "    }\n",
       "\n",
       "    .dataframe tbody tr th {\n",
       "        vertical-align: top;\n",
       "    }\n",
       "\n",
       "    .dataframe thead th {\n",
       "        text-align: right;\n",
       "    }\n",
       "</style>\n",
       "<table border=\"1\" class=\"dataframe\">\n",
       "  <thead>\n",
       "    <tr style=\"text-align: right;\">\n",
       "      <th></th>\n",
       "      <th>acc</th>\n",
       "      <th>f1_score</th>\n",
       "    </tr>\n",
       "  </thead>\n",
       "  <tbody>\n",
       "    <tr>\n",
       "      <th>train</th>\n",
       "      <td>1.0</td>\n",
       "      <td>1.00</td>\n",
       "    </tr>\n",
       "    <tr>\n",
       "      <th>test</th>\n",
       "      <td>0.9</td>\n",
       "      <td>0.48</td>\n",
       "    </tr>\n",
       "  </tbody>\n",
       "</table>\n",
       "</div>"
      ],
      "text/plain": [
       "       acc  f1_score\n",
       "train  1.0      1.00\n",
       "test   0.9      0.48"
      ]
     },
     "metadata": {},
     "output_type": "display_data"
    }
   ],
   "source": [
    "# 수치형 + 범주형 변수 모두 사용하여 평가\n",
    "get_score(X_train, X_test, col_dummies + numeric_col)"
   ]
  },
  {
   "cell_type": "markdown",
   "metadata": {},
   "source": [
    "## 심화 (강의엔 없는내용)\n",
    "- accuracy score는 높은 반면 f1-score는 낮습니다. 이걸로 볼때 y값이 편향되어있음을 알 수 있습니다.\n",
    "    - 또한, f1-score는 train에는 100% 확률로 예측한 반면, test는 50% 정도로 터무니 없이 낮습니다. train 데이터에 과적합이 의심됩니다. \n",
    "\n",
    "- 이진분류(0,1) 문제는 기본적으로 한쪽으로 찍으면 50%의 확률이 나오기 때문에 50%의 결과는 기본만 못합니다.(비용, 시간 투입고려)\n",
    "    - 게다가 파이차트로 확인해보니(하단) 대출거절이 기본적인 고객의 패턴입니다.(약 88%)\n",
    "- 이를 극복하기 위해 y값이 편향되어 있는 문제 해결을 위해 y=1 인 데이터값을 증강하는  oversampling 방법을 수행해보겠습니다"
   ]
  },
  {
   "cell_type": "code",
   "execution_count": 32,
   "metadata": {},
   "outputs": [
    {
     "data": {
      "image/png": "[encoded data removed]",
      "text/plain": [
       "<Figure size 600x300 with 2 Axes>"
      ]
     },
     "metadata": {},
     "output_type": "display_data"
    }
   ],
   "source": [
    "#train, test 데이터의 라벨 수 세기 \n",
    "\n",
    "y_train_counts = y_train.value_counts()\n",
    "y_test_counts = y_test.value_counts()\n",
    "\n",
    "datasets = [(y_train, 'Class Distribution in y_train'),\n",
    "            (y_test, 'Class Distribution in y_test')]\n",
    "\n",
    "# subplot 생성\n",
    "fig, axes = plt.subplots(nrows=1, ncols=2, figsize=(6, 3))\n",
    "\n",
    "# 반복문을 사용하여 각 데이터셋의 클래스 분포 시각화\n",
    "for i, (dataset, title) in enumerate(datasets):\n",
    "    value_counts = dataset.value_counts()\n",
    "    axes[i].pie(value_counts, labels=value_counts.index, autopct='%1.1f%%', startangle=140)\n",
    "    axes[i].set_title(title)\n",
    "\n",
    "# 그래프 보여주기\n",
    "plt.tight_layout()\n",
    "plt.show()"
   ]
  },
  {
   "cell_type": "code",
   "execution_count": 33,
   "metadata": {},
   "outputs": [],
   "source": [
    "#데이터다시 불러오기\n",
    "df = pd.read_csv('./bank_marketing.csv')\n",
    "X_train, X_test, y_train, y_test = train_test_split(X, y, stratify = y, random_state= 42)\n",
    "\n",
    "#y 라벨 변경\n",
    "y_train['y'] = y_train['y'].apply(get_binary)\n",
    "y_test['y'] = y_test['y'].apply(get_binary)\n",
    "\n",
    "#처음 순서와 다르게 범주형 먼저 인코딩 하여 숫자로 변경\n",
    "#이유: SMOTE 알고리즘이 기본적으로 수치형변수에 적용되기 때문\n",
    "X_train, X_test, col_dummies = get_category(X_train,X_test)\n",
    "\n",
    "# 사용된 범주형 변수는 삭제 \n",
    "X_train = X_train.drop(columns = category_col)\n",
    "X_test = X_test.drop(columns = category_col)"
   ]
  },
  {
   "cell_type": "markdown",
   "metadata": {},
   "source": [
    "- SMOTE 알고리즘을 통한 oversampling 적용"
   ]
  },
  {
   "cell_type": "code",
   "execution_count": 34,
   "metadata": {},
   "outputs": [],
   "source": [
    "#최초 1회 실행 후 주석처리\n",
    "#pip install imbalanced-learn"
   ]
  },
  {
   "cell_type": "code",
   "execution_count": 35,
   "metadata": {},
   "outputs": [],
   "source": [
    "from imblearn.over_sampling import SMOTE\n",
    "sm = SMOTE(random_state=42)\n",
    "X_train, y_train = sm.fit_resample(X_train, y_train)\n",
    "X_test, y_test = sm.fit_resample(X_test, y_test)"
   ]
  },
  {
   "cell_type": "markdown",
   "metadata": {},
   "source": [
    "- 하기 내용은 이전과 같음"
   ]
  },
  {
   "cell_type": "code",
   "execution_count": 36,
   "metadata": {},
   "outputs": [],
   "source": [
    "#balance의 값은 음수가 있기 때문에 최소값을 보정함\n",
    "balance_min = abs(min(X_train['balance'].min(), X_test['balance'].min()))\n",
    "X_train['balance'] = X_train['balance'] + balance_min\n",
    "X_test['balance'] = X_test['balance'] + balance_min\n",
    "\n",
    "# 로그스케일 적용\n",
    "for col in ['balance','previous']:\n",
    "    X_train[col] = np.log1p(X_train[col])\n",
    "    X_test[col] = np.log1p(X_test[col])\n",
    "    \n",
    "# 수치형 변수 변환\n",
    "X_train, X_test = get_numeric_sc(X_train, X_test)"
   ]
  },
  {
   "cell_type": "code",
   "execution_count": 37,
   "metadata": {},
   "outputs": [
    {
     "name": "stdout",
     "output_type": "stream",
     "text": [
      "Logistic Regression\n"
     ]
    },
    {
     "data": {
      "text/html": [
       "<div>\n",
       "<style scoped>\n",
       "    .dataframe tbody tr th:only-of-type {\n",
       "        vertical-align: middle;\n",
       "    }\n",
       "\n",
       "    .dataframe tbody tr th {\n",
       "        vertical-align: top;\n",
       "    }\n",
       "\n",
       "    .dataframe thead th {\n",
       "        text-align: right;\n",
       "    }\n",
       "</style>\n",
       "<table border=\"1\" class=\"dataframe\">\n",
       "  <thead>\n",
       "    <tr style=\"text-align: right;\">\n",
       "      <th></th>\n",
       "      <th>acc</th>\n",
       "      <th>f1_score</th>\n",
       "    </tr>\n",
       "  </thead>\n",
       "  <tbody>\n",
       "    <tr>\n",
       "      <th>train</th>\n",
       "      <td>0.84</td>\n",
       "      <td>0.83</td>\n",
       "    </tr>\n",
       "    <tr>\n",
       "      <th>test</th>\n",
       "      <td>0.84</td>\n",
       "      <td>0.83</td>\n",
       "    </tr>\n",
       "  </tbody>\n",
       "</table>\n",
       "</div>"
      ],
      "text/plain": [
       "        acc  f1_score\n",
       "train  0.84      0.83\n",
       "test   0.84      0.83"
      ]
     },
     "metadata": {},
     "output_type": "display_data"
    },
    {
     "name": "stdout",
     "output_type": "stream",
     "text": [
      "Decision Tree\n"
     ]
    },
    {
     "data": {
      "text/html": [
       "<div>\n",
       "<style scoped>\n",
       "    .dataframe tbody tr th:only-of-type {\n",
       "        vertical-align: middle;\n",
       "    }\n",
       "\n",
       "    .dataframe tbody tr th {\n",
       "        vertical-align: top;\n",
       "    }\n",
       "\n",
       "    .dataframe thead th {\n",
       "        text-align: right;\n",
       "    }\n",
       "</style>\n",
       "<table border=\"1\" class=\"dataframe\">\n",
       "  <thead>\n",
       "    <tr style=\"text-align: right;\">\n",
       "      <th></th>\n",
       "      <th>acc</th>\n",
       "      <th>f1_score</th>\n",
       "    </tr>\n",
       "  </thead>\n",
       "  <tbody>\n",
       "    <tr>\n",
       "      <th>train</th>\n",
       "      <td>1.00</td>\n",
       "      <td>1.00</td>\n",
       "    </tr>\n",
       "    <tr>\n",
       "      <th>test</th>\n",
       "      <td>0.88</td>\n",
       "      <td>0.88</td>\n",
       "    </tr>\n",
       "  </tbody>\n",
       "</table>\n",
       "</div>"
      ],
      "text/plain": [
       "        acc  f1_score\n",
       "train  1.00      1.00\n",
       "test   0.88      0.88"
      ]
     },
     "metadata": {},
     "output_type": "display_data"
    },
    {
     "name": "stdout",
     "output_type": "stream",
     "text": [
      "Random Forest\n"
     ]
    },
    {
     "data": {
      "text/html": [
       "<div>\n",
       "<style scoped>\n",
       "    .dataframe tbody tr th:only-of-type {\n",
       "        vertical-align: middle;\n",
       "    }\n",
       "\n",
       "    .dataframe tbody tr th {\n",
       "        vertical-align: top;\n",
       "    }\n",
       "\n",
       "    .dataframe thead th {\n",
       "        text-align: right;\n",
       "    }\n",
       "</style>\n",
       "<table border=\"1\" class=\"dataframe\">\n",
       "  <thead>\n",
       "    <tr style=\"text-align: right;\">\n",
       "      <th></th>\n",
       "      <th>acc</th>\n",
       "      <th>f1_score</th>\n",
       "    </tr>\n",
       "  </thead>\n",
       "  <tbody>\n",
       "    <tr>\n",
       "      <th>train</th>\n",
       "      <td>1.00</td>\n",
       "      <td>1.00</td>\n",
       "    </tr>\n",
       "    <tr>\n",
       "      <th>test</th>\n",
       "      <td>0.92</td>\n",
       "      <td>0.92</td>\n",
       "    </tr>\n",
       "  </tbody>\n",
       "</table>\n",
       "</div>"
      ],
      "text/plain": [
       "        acc  f1_score\n",
       "train  1.00      1.00\n",
       "test   0.92      0.92"
      ]
     },
     "metadata": {},
     "output_type": "display_data"
    }
   ],
   "source": [
    "get_score(X_train, X_test, col_dummies + numeric_col)"
   ]
  },
  {
   "cell_type": "markdown",
   "metadata": {},
   "source": [
    "# (선택, 서술형)\n",
    "\n",
    "- 위 모델링은 데이터 전처리 등 개선할 점이 있습니다. 어떤 부분을 개선하면 좋을까요? "
   ]
  },
  {
   "cell_type": "markdown",
   "metadata": {},
   "source": [
    "\n",
    "- 결측치 처리, 이상치 제거로 모델을 최적화 합니다.\n",
    "- Cross Validation, Grid Search 로 모델을 최적화 합니다.\n",
    "## 추가 질문\n",
    "- 왜 X_train, X_test 두개를 따로 나누어서 모든 변수 스케일링/인코딩을 진행할까요? 왜 애초에 df 로 다 처리하고 split 하지 않을까요?\n",
    "- 수치형 변수 스케일링에 왜 minmax, standard 따로 적용했을까요? \n",
    "- 왜 로지스틱회귀는 성능이 떨어질까요?\n",
    "- 왜 duration, balance, previous 변수만 로그스케일을 적용했을까요?"
   ]
  }
 ],
 "metadata": {
  "kernelspec": {
   "display_name": "Python 3",
   "language": "python",
   "name": "python3"
  },
  "language_info": {
   "codemirror_mode": {
    "name": "ipython",
    "version": 3
   },
   "file_extension": ".py",
   "mimetype": "text/x-python",
   "name": "python",
   "nbconvert_exporter": "python",
   "pygments_lexer": "ipython3",
   "version": "3.11.2"
  }
 },
 "nbformat": 4,
 "nbformat_minor": 2
}
